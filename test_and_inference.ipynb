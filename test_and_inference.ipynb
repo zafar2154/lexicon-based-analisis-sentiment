{
 "cells": [
  {
   "cell_type": "markdown",
   "metadata": {},
   "source": [
    "upload model yang sudah di train"
   ]
  },
  {
   "cell_type": "code",
   "execution_count": 1,
   "metadata": {},
   "outputs": [
    {
     "name": "stderr",
     "output_type": "stream",
     "text": [
      "c:\\Users\\Afit\\AppData\\Local\\Programs\\Python\\Python312\\Lib\\site-packages\\keras\\src\\saving\\saving_lib.py:576: UserWarning: Skipping variable loading for optimizer 'rmsprop', because it has 8 variables whereas the saved optimizer has 14 variables. \n",
      "  saveable.load_own_variables(weights_store.get(inner_path))\n",
      "c:\\Users\\Afit\\AppData\\Local\\Programs\\Python\\Python312\\Lib\\site-packages\\keras\\src\\saving\\saving_lib.py:576: UserWarning: Skipping variable loading for optimizer 'rmsprop', because it has 11 variables whereas the saved optimizer has 20 variables. \n",
      "  saveable.load_own_variables(weights_store.get(inner_path))\n"
     ]
    }
   ],
   "source": [
    "import numpy as np\n",
    "from tensorflow.keras.models import load_model\n",
    "\n",
    "model1 = load_model('model_word2vec_lstm.keras')\n",
    "model2 = load_model('model_glove_cnn.keras')\n",
    "model3 = load_model('model_gru.keras')"
   ]
  },
  {
   "cell_type": "markdown",
   "metadata": {},
   "source": [
    "upload tokenizer dan label_encodernya"
   ]
  },
  {
   "cell_type": "code",
   "execution_count": 20,
   "metadata": {},
   "outputs": [],
   "source": [
    "import pickle\n",
    "\n",
    "# Load tokenizer\n",
    "with open('tokenizer.pickle', 'rb') as handle:\n",
    "    tokenizer = pickle.load(handle)\n",
    "\n",
    "# Load LabelEncoder\n",
    "with open('label_encoder.pickle', 'rb') as handle:\n",
    "    le = pickle.load(handle)\n",
    "\n",
    "# Load tfidf\n",
    "with open('tfidf.pickle', 'rb') as handle:\n",
    "    tfidf = pickle.load(handle)"
   ]
  },
  {
   "cell_type": "markdown",
   "metadata": {},
   "source": [
    "buat fungsi untuk predict text baru"
   ]
  },
  {
   "cell_type": "markdown",
   "metadata": {},
   "source": [
    "#### model 1 : word2vec, lstm, 90:10"
   ]
  },
  {
   "cell_type": "code",
   "execution_count": 15,
   "metadata": {},
   "outputs": [],
   "source": [
    "from keras.preprocessing.sequence import pad_sequences\n",
    "def predict_sentiment1(review):\n",
    "    sequence = tokenizer.texts_to_sequences([review])\n",
    "    padded_sequence = pad_sequences(sequence, maxlen=200, padding='post', truncating='post')\n",
    "    prediction = model1.predict(padded_sequence)\n",
    "    sentiment_index = prediction.argmax()\n",
    "    sentiment = le.inverse_transform([sentiment_index])[0]\n",
    "    return sentiment"
   ]
  },
  {
   "cell_type": "markdown",
   "metadata": {},
   "source": [
    "buat teks baru dan predict polaritynya"
   ]
  },
  {
   "cell_type": "code",
   "execution_count": 16,
   "metadata": {},
   "outputs": [
    {
     "name": "stdout",
     "output_type": "stream",
     "text": [
      "\u001b[1m1/1\u001b[0m \u001b[32m━━━━━━━━━━━━━━━━━━━━\u001b[0m\u001b[37m\u001b[0m \u001b[1m0s\u001b[0m 34ms/step\n",
      "Sentimen dari ulasan \"this app is so excellent\": positif\n",
      "\u001b[1m1/1\u001b[0m \u001b[32m━━━━━━━━━━━━━━━━━━━━\u001b[0m\u001b[37m\u001b[0m \u001b[1m0s\u001b[0m 25ms/step\n",
      "Sentimen dari ulasan \"I hate this app, it's so buggy\": negatif\n",
      "\u001b[1m1/1\u001b[0m \u001b[32m━━━━━━━━━━━━━━━━━━━━\u001b[0m\u001b[37m\u001b[0m \u001b[1m0s\u001b[0m 27ms/step\n",
      "Sentimen dari ulasan \"This app is ok, I guess\": netral\n"
     ]
    }
   ],
   "source": [
    "new_reviews = [\n",
    "    \"this app is so excellent\",\n",
    "    \"I hate this app, it's so buggy\",\n",
    "    \"This app is ok, I guess\"\n",
    "]\n",
    "for review in new_reviews:\n",
    "    sentiment = predict_sentiment1(review)\n",
    "    print(f'Sentimen dari ulasan \"{review}\": {sentiment}')"
   ]
  },
  {
   "cell_type": "markdown",
   "metadata": {},
   "source": [
    "#### model 2 : glove, cnn, 85:15"
   ]
  },
  {
   "cell_type": "code",
   "execution_count": 17,
   "metadata": {},
   "outputs": [],
   "source": [
    "def predict_sentiment2(review):\n",
    "    sequence = tokenizer.texts_to_sequences([review])\n",
    "    padded_sequence = pad_sequences(sequence, maxlen=200, padding='post', truncating='post')\n",
    "    prediction = model2.predict(padded_sequence)\n",
    "    sentiment_index = prediction.argmax()\n",
    "    sentiment = le.inverse_transform([sentiment_index])[0]\n",
    "    return sentiment"
   ]
  },
  {
   "cell_type": "markdown",
   "metadata": {},
   "source": [
    "buat teks baru dan predict polaritynya"
   ]
  },
  {
   "cell_type": "code",
   "execution_count": 18,
   "metadata": {},
   "outputs": [
    {
     "name": "stdout",
     "output_type": "stream",
     "text": [
      "\u001b[1m1/1\u001b[0m \u001b[32m━━━━━━━━━━━━━━━━━━━━\u001b[0m\u001b[37m\u001b[0m \u001b[1m0s\u001b[0m 16ms/step\n",
      "Sentimen dari ulasan \"this app is so excellent\": positif\n",
      "\u001b[1m1/1\u001b[0m \u001b[32m━━━━━━━━━━━━━━━━━━━━\u001b[0m\u001b[37m\u001b[0m \u001b[1m0s\u001b[0m 20ms/step\n",
      "Sentimen dari ulasan \"I hate this app, it's so buggy\": negatif\n",
      "\u001b[1m1/1\u001b[0m \u001b[32m━━━━━━━━━━━━━━━━━━━━\u001b[0m\u001b[37m\u001b[0m \u001b[1m0s\u001b[0m 14ms/step\n",
      "Sentimen dari ulasan \"This app is ok, I guess\": netral\n"
     ]
    }
   ],
   "source": [
    "new_reviews = [\n",
    "    \"this app is so excellent\",\n",
    "    \"I hate this app, it's so buggy\",\n",
    "    \"This app is ok, I guess\"\n",
    "]\n",
    "for review in new_reviews:\n",
    "    sentiment = predict_sentiment2(review)\n",
    "    print(f'Sentimen dari ulasan \"{review}\": {sentiment}')"
   ]
  },
  {
   "cell_type": "markdown",
   "metadata": {},
   "source": [
    "#### model 3 : tf-idf, gru, 80:20"
   ]
  },
  {
   "cell_type": "code",
   "execution_count": 21,
   "metadata": {},
   "outputs": [],
   "source": [
    "def predict_sentiment3(review):\n",
    "    review_tfidf = tfidf.transform([review]).toarray()\n",
    "    prediction = model3.predict(review_tfidf)\n",
    "    return le.inverse_transform([prediction.argmax()])[0]"
   ]
  },
  {
   "cell_type": "markdown",
   "metadata": {},
   "source": [
    "buat teks baru dan predict polaritynya"
   ]
  },
  {
   "cell_type": "code",
   "execution_count": 23,
   "metadata": {},
   "outputs": [
    {
     "name": "stdout",
     "output_type": "stream",
     "text": [
      "\u001b[1m1/1\u001b[0m \u001b[32m━━━━━━━━━━━━━━━━━━━━\u001b[0m\u001b[37m\u001b[0m \u001b[1m0s\u001b[0m 234ms/step\n",
      "Sentimen dari ulasan \"this app is so excellent\": positif\n",
      "\u001b[1m1/1\u001b[0m \u001b[32m━━━━━━━━━━━━━━━━━━━━\u001b[0m\u001b[37m\u001b[0m \u001b[1m0s\u001b[0m 23ms/step\n",
      "Sentimen dari ulasan \"I hate this app, it's so buggy\": negatif\n",
      "\u001b[1m1/1\u001b[0m \u001b[32m━━━━━━━━━━━━━━━━━━━━\u001b[0m\u001b[37m\u001b[0m \u001b[1m0s\u001b[0m 26ms/step\n",
      "Sentimen dari ulasan \"This app is ok, I guess\": netral\n"
     ]
    }
   ],
   "source": [
    "new_reviews = [\n",
    "    \"this app is so excellent\",\n",
    "    \"I hate this app, it's so buggy\",\n",
    "    \"This app is ok, I guess\"\n",
    "]\n",
    "for review in new_reviews:\n",
    "    sentiment = predict_sentiment3(review)\n",
    "    print(f'Sentimen dari ulasan \"{review}\": {sentiment}')"
   ]
  }
 ],
 "metadata": {
  "kernelspec": {
   "display_name": "Python 3",
   "language": "python",
   "name": "python3"
  },
  "language_info": {
   "codemirror_mode": {
    "name": "ipython",
    "version": 3
   },
   "file_extension": ".py",
   "mimetype": "text/x-python",
   "name": "python",
   "nbconvert_exporter": "python",
   "pygments_lexer": "ipython3",
   "version": "3.12.4"
  }
 },
 "nbformat": 4,
 "nbformat_minor": 2
}
